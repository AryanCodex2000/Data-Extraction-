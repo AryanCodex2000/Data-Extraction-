{
 "cells": [
  {
   "cell_type": "code",
   "execution_count": 1,
   "id": "1219e506",
   "metadata": {
    "_cell_guid": "b1076dfc-b9ad-4769-8c92-a6c4dae69d19",
    "_uuid": "8f2839f25d086af736a60e9eeb907d3b93b6e0e5",
    "execution": {
     "iopub.execute_input": "2025-07-07T18:36:05.077277Z",
     "iopub.status.busy": "2025-07-07T18:36:05.076956Z",
     "iopub.status.idle": "2025-07-07T18:36:06.844545Z",
     "shell.execute_reply": "2025-07-07T18:36:06.843608Z"
    },
    "papermill": {
     "duration": 1.773967,
     "end_time": "2025-07-07T18:36:06.846243",
     "exception": false,
     "start_time": "2025-07-07T18:36:05.072276",
     "status": "completed"
    },
    "tags": []
   },
   "outputs": [],
   "source": [
    "import numpy as np \n",
    "import pandas as pd "
   ]
  },
  {
   "cell_type": "code",
   "execution_count": 2,
   "id": "b507f034",
   "metadata": {
    "execution": {
     "iopub.execute_input": "2025-07-07T18:36:06.853379Z",
     "iopub.status.busy": "2025-07-07T18:36:06.852717Z",
     "iopub.status.idle": "2025-07-07T18:36:06.979853Z",
     "shell.execute_reply": "2025-07-07T18:36:06.978944Z"
    },
    "papermill": {
     "duration": 0.132109,
     "end_time": "2025-07-07T18:36:06.981502",
     "exception": false,
     "start_time": "2025-07-07T18:36:06.849393",
     "status": "completed"
    },
    "tags": []
   },
   "outputs": [
    {
     "data": {
      "text/html": [
       "<div>\n",
       "<style scoped>\n",
       "    .dataframe tbody tr th:only-of-type {\n",
       "        vertical-align: middle;\n",
       "    }\n",
       "\n",
       "    .dataframe tbody tr th {\n",
       "        vertical-align: top;\n",
       "    }\n",
       "\n",
       "    .dataframe thead th {\n",
       "        text-align: right;\n",
       "    }\n",
       "</style>\n",
       "<table border=\"1\" class=\"dataframe\">\n",
       "  <thead>\n",
       "    <tr style=\"text-align: right;\">\n",
       "      <th></th>\n",
       "      <th>Company</th>\n",
       "      <th>Location</th>\n",
       "      <th>Job Experience</th>\n",
       "      <th>Skills/Description</th>\n",
       "    </tr>\n",
       "    <tr>\n",
       "      <th>Job_Role</th>\n",
       "      <th></th>\n",
       "      <th></th>\n",
       "      <th></th>\n",
       "      <th></th>\n",
       "    </tr>\n",
       "  </thead>\n",
       "  <tbody>\n",
       "    <tr>\n",
       "      <th>Senior Data Scientist</th>\n",
       "      <td>UPL</td>\n",
       "      <td>Bangalore/Bengaluru, Mumbai (All Areas)</td>\n",
       "      <td>3-6</td>\n",
       "      <td>python, MLT, statistical modeling, machine lea...</td>\n",
       "    </tr>\n",
       "    <tr>\n",
       "      <th>Senior Data Scientist</th>\n",
       "      <td>Walmart</td>\n",
       "      <td>Bangalore/Bengaluru</td>\n",
       "      <td>5-9</td>\n",
       "      <td>Data Science, Machine learning, Python, Azure,...</td>\n",
       "    </tr>\n",
       "    <tr>\n",
       "      <th>Applied Data Scientist / ML Senior Engineer (Python / SQL)</th>\n",
       "      <td>SAP India Pvt.Ltd</td>\n",
       "      <td>Bangalore/Bengaluru</td>\n",
       "      <td>5-10</td>\n",
       "      <td>Python, IT Skills, Testing, Cloud, Product Man...</td>\n",
       "    </tr>\n",
       "    <tr>\n",
       "      <th>Data Scientist</th>\n",
       "      <td>UPL</td>\n",
       "      <td>Bangalore/Bengaluru, Mumbai (All Areas)</td>\n",
       "      <td>1-4</td>\n",
       "      <td>python, machine learning, Data Science, data a...</td>\n",
       "    </tr>\n",
       "    <tr>\n",
       "      <th>Data Scientist</th>\n",
       "      <td>Walmart</td>\n",
       "      <td>Bangalore/Bengaluru</td>\n",
       "      <td>4-8</td>\n",
       "      <td>IT Skills, Python, Data Science, Machine Learn...</td>\n",
       "    </tr>\n",
       "    <tr>\n",
       "      <th>...</th>\n",
       "      <td>...</td>\n",
       "      <td>...</td>\n",
       "      <td>...</td>\n",
       "      <td>...</td>\n",
       "    </tr>\n",
       "    <tr>\n",
       "      <th>Tech Lead/Architect ( Contractual )</th>\n",
       "      <td>Krazy Mantra HR Solutions Pvt. Ltd</td>\n",
       "      <td>Kolkata, Chennai, Bangalore/Bengaluru</td>\n",
       "      <td>8-13</td>\n",
       "      <td>Spark, Python, S3, lambda, Athena, AWS, IT Ski...</td>\n",
       "    </tr>\n",
       "    <tr>\n",
       "      <th>Tech Lead / POD Lead</th>\n",
       "      <td>cliqhr.com</td>\n",
       "      <td>Hyderabad/Secunderabad, Pune, Bangalore/Bengaluru</td>\n",
       "      <td>10-12</td>\n",
       "      <td>AirFlow, BigQuery, GCS, Kafka, Java, Shell scr...</td>\n",
       "    </tr>\n",
       "    <tr>\n",
       "      <th>Java Full Stack Developer - Hibernate / Spring</th>\n",
       "      <td>Serving Skill</td>\n",
       "      <td>Hyderabad/Secunderabad, Bangalore/Bengaluru</td>\n",
       "      <td>2-5</td>\n",
       "      <td>IT Skills, Java, Software Development, Testing...</td>\n",
       "    </tr>\n",
       "    <tr>\n",
       "      <th>Tech Lead - Azure</th>\n",
       "      <td>cliqhr.com</td>\n",
       "      <td>Kochi/Cochin, Mumbai, Hyderabad/Secunderabad, ...</td>\n",
       "      <td>8-10</td>\n",
       "      <td>PowerShell, Azure Data Factory, Azure, PaaS, M...</td>\n",
       "    </tr>\n",
       "    <tr>\n",
       "      <th>Full Stack Developer - Machine Learning</th>\n",
       "      <td>Huquo Consulting Pvt. Ltd</td>\n",
       "      <td>Bangalore/Bengaluru</td>\n",
       "      <td>5-10</td>\n",
       "      <td>Java, JavaScript, Machine Learning, NoSQL, Clo...</td>\n",
       "    </tr>\n",
       "  </tbody>\n",
       "</table>\n",
       "<p>12000 rows × 4 columns</p>\n",
       "</div>"
      ],
      "text/plain": [
       "                                                                               Company  \\\n",
       "Job_Role                                                                                 \n",
       "Senior Data Scientist                                                              UPL   \n",
       "Senior Data Scientist                                                          Walmart   \n",
       "Applied Data Scientist / ML Senior Engineer (Py...                   SAP India Pvt.Ltd   \n",
       "Data Scientist                                                                     UPL   \n",
       "Data Scientist                                                                 Walmart   \n",
       "...                                                                                ...   \n",
       "Tech Lead/Architect ( Contractual )                 Krazy Mantra HR Solutions Pvt. Ltd   \n",
       "Tech Lead / POD Lead                                                        cliqhr.com   \n",
       "Java Full Stack Developer - Hibernate / Spring                           Serving Skill   \n",
       "Tech Lead - Azure                                                           cliqhr.com   \n",
       "Full Stack Developer - Machine Learning                      Huquo Consulting Pvt. Ltd   \n",
       "\n",
       "                                                                                             Location  \\\n",
       "Job_Role                                                                                                \n",
       "Senior Data Scientist                                         Bangalore/Bengaluru, Mumbai (All Areas)   \n",
       "Senior Data Scientist                                                             Bangalore/Bengaluru   \n",
       "Applied Data Scientist / ML Senior Engineer (Py...                                Bangalore/Bengaluru   \n",
       "Data Scientist                                                Bangalore/Bengaluru, Mumbai (All Areas)   \n",
       "Data Scientist                                                                    Bangalore/Bengaluru   \n",
       "...                                                                                               ...   \n",
       "Tech Lead/Architect ( Contractual )                             Kolkata, Chennai, Bangalore/Bengaluru   \n",
       "Tech Lead / POD Lead                                Hyderabad/Secunderabad, Pune, Bangalore/Bengaluru   \n",
       "Java Full Stack Developer - Hibernate / Spring            Hyderabad/Secunderabad, Bangalore/Bengaluru   \n",
       "Tech Lead - Azure                                   Kochi/Cochin, Mumbai, Hyderabad/Secunderabad, ...   \n",
       "Full Stack Developer - Machine Learning                                           Bangalore/Bengaluru   \n",
       "\n",
       "                                                   Job Experience  \\\n",
       "Job_Role                                                            \n",
       "Senior Data Scientist                                         3-6   \n",
       "Senior Data Scientist                                         5-9   \n",
       "Applied Data Scientist / ML Senior Engineer (Py...           5-10   \n",
       "Data Scientist                                                1-4   \n",
       "Data Scientist                                                4-8   \n",
       "...                                                           ...   \n",
       "Tech Lead/Architect ( Contractual )                          8-13   \n",
       "Tech Lead / POD Lead                                        10-12   \n",
       "Java Full Stack Developer - Hibernate / Spring                2-5   \n",
       "Tech Lead - Azure                                            8-10   \n",
       "Full Stack Developer - Machine Learning                      5-10   \n",
       "\n",
       "                                                                                   Skills/Description  \n",
       "Job_Role                                                                                               \n",
       "Senior Data Scientist                               python, MLT, statistical modeling, machine lea...  \n",
       "Senior Data Scientist                               Data Science, Machine learning, Python, Azure,...  \n",
       "Applied Data Scientist / ML Senior Engineer (Py...  Python, IT Skills, Testing, Cloud, Product Man...  \n",
       "Data Scientist                                      python, machine learning, Data Science, data a...  \n",
       "Data Scientist                                      IT Skills, Python, Data Science, Machine Learn...  \n",
       "...                                                                                               ...  \n",
       "Tech Lead/Architect ( Contractual )                 Spark, Python, S3, lambda, Athena, AWS, IT Ski...  \n",
       "Tech Lead / POD Lead                                AirFlow, BigQuery, GCS, Kafka, Java, Shell scr...  \n",
       "Java Full Stack Developer - Hibernate / Spring      IT Skills, Java, Software Development, Testing...  \n",
       "Tech Lead - Azure                                   PowerShell, Azure Data Factory, Azure, PaaS, M...  \n",
       "Full Stack Developer - Machine Learning             Java, JavaScript, Machine Learning, NoSQL, Clo...  \n",
       "\n",
       "[12000 rows x 4 columns]"
      ]
     },
     "execution_count": 2,
     "metadata": {},
     "output_type": "execute_result"
    }
   ],
   "source": [
    "df = pd.read_csv('/kaggle/input/12000-data-science-jobs-ini-india/naukri_data_science_jobs_india.csv', index_col = ['Job_Role'])\n",
    "df"
   ]
  },
  {
   "cell_type": "code",
   "execution_count": 3,
   "id": "e6703244",
   "metadata": {
    "execution": {
     "iopub.execute_input": "2025-07-07T18:36:06.989016Z",
     "iopub.status.busy": "2025-07-07T18:36:06.988699Z",
     "iopub.status.idle": "2025-07-07T18:36:06.998003Z",
     "shell.execute_reply": "2025-07-07T18:36:06.997299Z"
    },
    "papermill": {
     "duration": 0.014627,
     "end_time": "2025-07-07T18:36:06.999368",
     "exception": false,
     "start_time": "2025-07-07T18:36:06.984741",
     "status": "completed"
    },
    "tags": []
   },
   "outputs": [
    {
     "data": {
      "text/html": [
       "<div>\n",
       "<style scoped>\n",
       "    .dataframe tbody tr th:only-of-type {\n",
       "        vertical-align: middle;\n",
       "    }\n",
       "\n",
       "    .dataframe tbody tr th {\n",
       "        vertical-align: top;\n",
       "    }\n",
       "\n",
       "    .dataframe thead th {\n",
       "        text-align: right;\n",
       "    }\n",
       "</style>\n",
       "<table border=\"1\" class=\"dataframe\">\n",
       "  <thead>\n",
       "    <tr style=\"text-align: right;\">\n",
       "      <th></th>\n",
       "      <th>Company</th>\n",
       "      <th>Location</th>\n",
       "      <th>Job Experience</th>\n",
       "      <th>Skills/Description</th>\n",
       "    </tr>\n",
       "    <tr>\n",
       "      <th>Job_Role</th>\n",
       "      <th></th>\n",
       "      <th></th>\n",
       "      <th></th>\n",
       "      <th></th>\n",
       "    </tr>\n",
       "  </thead>\n",
       "  <tbody>\n",
       "    <tr>\n",
       "      <th>Senior Data Scientist</th>\n",
       "      <td>UPL</td>\n",
       "      <td>Bangalore/Bengaluru, Mumbai (All Areas)</td>\n",
       "      <td>3-6</td>\n",
       "      <td>python, MLT, statistical modeling, machine lea...</td>\n",
       "    </tr>\n",
       "    <tr>\n",
       "      <th>Senior Data Scientist</th>\n",
       "      <td>Walmart</td>\n",
       "      <td>Bangalore/Bengaluru</td>\n",
       "      <td>5-9</td>\n",
       "      <td>Data Science, Machine learning, Python, Azure,...</td>\n",
       "    </tr>\n",
       "    <tr>\n",
       "      <th>Applied Data Scientist / ML Senior Engineer (Python / SQL)</th>\n",
       "      <td>SAP India Pvt.Ltd</td>\n",
       "      <td>Bangalore/Bengaluru</td>\n",
       "      <td>5-10</td>\n",
       "      <td>Python, IT Skills, Testing, Cloud, Product Man...</td>\n",
       "    </tr>\n",
       "    <tr>\n",
       "      <th>Data Scientist</th>\n",
       "      <td>UPL</td>\n",
       "      <td>Bangalore/Bengaluru, Mumbai (All Areas)</td>\n",
       "      <td>1-4</td>\n",
       "      <td>python, machine learning, Data Science, data a...</td>\n",
       "    </tr>\n",
       "    <tr>\n",
       "      <th>Data Scientist</th>\n",
       "      <td>Walmart</td>\n",
       "      <td>Bangalore/Bengaluru</td>\n",
       "      <td>4-8</td>\n",
       "      <td>IT Skills, Python, Data Science, Machine Learn...</td>\n",
       "    </tr>\n",
       "  </tbody>\n",
       "</table>\n",
       "</div>"
      ],
      "text/plain": [
       "                                                              Company  \\\n",
       "Job_Role                                                                \n",
       "Senior Data Scientist                                             UPL   \n",
       "Senior Data Scientist                                         Walmart   \n",
       "Applied Data Scientist / ML Senior Engineer (Py...  SAP India Pvt.Ltd   \n",
       "Data Scientist                                                    UPL   \n",
       "Data Scientist                                                Walmart   \n",
       "\n",
       "                                                                                   Location  \\\n",
       "Job_Role                                                                                      \n",
       "Senior Data Scientist                               Bangalore/Bengaluru, Mumbai (All Areas)   \n",
       "Senior Data Scientist                                                   Bangalore/Bengaluru   \n",
       "Applied Data Scientist / ML Senior Engineer (Py...                      Bangalore/Bengaluru   \n",
       "Data Scientist                                      Bangalore/Bengaluru, Mumbai (All Areas)   \n",
       "Data Scientist                                                          Bangalore/Bengaluru   \n",
       "\n",
       "                                                   Job Experience  \\\n",
       "Job_Role                                                            \n",
       "Senior Data Scientist                                         3-6   \n",
       "Senior Data Scientist                                         5-9   \n",
       "Applied Data Scientist / ML Senior Engineer (Py...           5-10   \n",
       "Data Scientist                                                1-4   \n",
       "Data Scientist                                                4-8   \n",
       "\n",
       "                                                                                   Skills/Description  \n",
       "Job_Role                                                                                               \n",
       "Senior Data Scientist                               python, MLT, statistical modeling, machine lea...  \n",
       "Senior Data Scientist                               Data Science, Machine learning, Python, Azure,...  \n",
       "Applied Data Scientist / ML Senior Engineer (Py...  Python, IT Skills, Testing, Cloud, Product Man...  \n",
       "Data Scientist                                      python, machine learning, Data Science, data a...  \n",
       "Data Scientist                                      IT Skills, Python, Data Science, Machine Learn...  "
      ]
     },
     "execution_count": 3,
     "metadata": {},
     "output_type": "execute_result"
    }
   ],
   "source": [
    "df.head(5)"
   ]
  },
  {
   "cell_type": "code",
   "execution_count": 4,
   "id": "1e7cd95a",
   "metadata": {
    "execution": {
     "iopub.execute_input": "2025-07-07T18:36:07.007054Z",
     "iopub.status.busy": "2025-07-07T18:36:07.006744Z",
     "iopub.status.idle": "2025-07-07T18:36:07.011808Z",
     "shell.execute_reply": "2025-07-07T18:36:07.011102Z"
    },
    "papermill": {
     "duration": 0.010301,
     "end_time": "2025-07-07T18:36:07.013026",
     "exception": false,
     "start_time": "2025-07-07T18:36:07.002725",
     "status": "completed"
    },
    "tags": []
   },
   "outputs": [],
   "source": [
    "# if we need to reset the index then we will have to do \n",
    "df.reset_index(inplace = True)"
   ]
  },
  {
   "cell_type": "code",
   "execution_count": 5,
   "id": "9807aaea",
   "metadata": {
    "execution": {
     "iopub.execute_input": "2025-07-07T18:36:07.020516Z",
     "iopub.status.busy": "2025-07-07T18:36:07.020231Z",
     "iopub.status.idle": "2025-07-07T18:36:07.029128Z",
     "shell.execute_reply": "2025-07-07T18:36:07.028468Z"
    },
    "papermill": {
     "duration": 0.014129,
     "end_time": "2025-07-07T18:36:07.030528",
     "exception": false,
     "start_time": "2025-07-07T18:36:07.016399",
     "status": "completed"
    },
    "tags": []
   },
   "outputs": [
    {
     "data": {
      "text/html": [
       "<div>\n",
       "<style scoped>\n",
       "    .dataframe tbody tr th:only-of-type {\n",
       "        vertical-align: middle;\n",
       "    }\n",
       "\n",
       "    .dataframe tbody tr th {\n",
       "        vertical-align: top;\n",
       "    }\n",
       "\n",
       "    .dataframe thead th {\n",
       "        text-align: right;\n",
       "    }\n",
       "</style>\n",
       "<table border=\"1\" class=\"dataframe\">\n",
       "  <thead>\n",
       "    <tr style=\"text-align: right;\">\n",
       "      <th></th>\n",
       "      <th>Job_Role</th>\n",
       "      <th>Company</th>\n",
       "      <th>Location</th>\n",
       "      <th>Job Experience</th>\n",
       "      <th>Skills/Description</th>\n",
       "    </tr>\n",
       "  </thead>\n",
       "  <tbody>\n",
       "    <tr>\n",
       "      <th>0</th>\n",
       "      <td>Senior Data Scientist</td>\n",
       "      <td>UPL</td>\n",
       "      <td>Bangalore/Bengaluru, Mumbai (All Areas)</td>\n",
       "      <td>3-6</td>\n",
       "      <td>python, MLT, statistical modeling, machine lea...</td>\n",
       "    </tr>\n",
       "    <tr>\n",
       "      <th>1</th>\n",
       "      <td>Senior Data Scientist</td>\n",
       "      <td>Walmart</td>\n",
       "      <td>Bangalore/Bengaluru</td>\n",
       "      <td>5-9</td>\n",
       "      <td>Data Science, Machine learning, Python, Azure,...</td>\n",
       "    </tr>\n",
       "    <tr>\n",
       "      <th>2</th>\n",
       "      <td>Applied Data Scientist / ML Senior Engineer (P...</td>\n",
       "      <td>SAP India Pvt.Ltd</td>\n",
       "      <td>Bangalore/Bengaluru</td>\n",
       "      <td>5-10</td>\n",
       "      <td>Python, IT Skills, Testing, Cloud, Product Man...</td>\n",
       "    </tr>\n",
       "    <tr>\n",
       "      <th>3</th>\n",
       "      <td>Data Scientist</td>\n",
       "      <td>UPL</td>\n",
       "      <td>Bangalore/Bengaluru, Mumbai (All Areas)</td>\n",
       "      <td>1-4</td>\n",
       "      <td>python, machine learning, Data Science, data a...</td>\n",
       "    </tr>\n",
       "    <tr>\n",
       "      <th>4</th>\n",
       "      <td>Data Scientist</td>\n",
       "      <td>Walmart</td>\n",
       "      <td>Bangalore/Bengaluru</td>\n",
       "      <td>4-8</td>\n",
       "      <td>IT Skills, Python, Data Science, Machine Learn...</td>\n",
       "    </tr>\n",
       "  </tbody>\n",
       "</table>\n",
       "</div>"
      ],
      "text/plain": [
       "                                            Job_Role            Company  \\\n",
       "0                              Senior Data Scientist                UPL   \n",
       "1                              Senior Data Scientist            Walmart   \n",
       "2  Applied Data Scientist / ML Senior Engineer (P...  SAP India Pvt.Ltd   \n",
       "3                                     Data Scientist                UPL   \n",
       "4                                     Data Scientist            Walmart   \n",
       "\n",
       "                                  Location Job Experience  \\\n",
       "0  Bangalore/Bengaluru, Mumbai (All Areas)            3-6   \n",
       "1                      Bangalore/Bengaluru            5-9   \n",
       "2                      Bangalore/Bengaluru           5-10   \n",
       "3  Bangalore/Bengaluru, Mumbai (All Areas)            1-4   \n",
       "4                      Bangalore/Bengaluru            4-8   \n",
       "\n",
       "                                  Skills/Description  \n",
       "0  python, MLT, statistical modeling, machine lea...  \n",
       "1  Data Science, Machine learning, Python, Azure,...  \n",
       "2  Python, IT Skills, Testing, Cloud, Product Man...  \n",
       "3  python, machine learning, Data Science, data a...  \n",
       "4  IT Skills, Python, Data Science, Machine Learn...  "
      ]
     },
     "execution_count": 5,
     "metadata": {},
     "output_type": "execute_result"
    }
   ],
   "source": [
    "df.head()"
   ]
  },
  {
   "cell_type": "code",
   "execution_count": 6,
   "id": "f33281d3",
   "metadata": {
    "execution": {
     "iopub.execute_input": "2025-07-07T18:36:07.038477Z",
     "iopub.status.busy": "2025-07-07T18:36:07.038175Z",
     "iopub.status.idle": "2025-07-07T18:36:07.043119Z",
     "shell.execute_reply": "2025-07-07T18:36:07.042429Z"
    },
    "papermill": {
     "duration": 0.01063,
     "end_time": "2025-07-07T18:36:07.044548",
     "exception": false,
     "start_time": "2025-07-07T18:36:07.033918",
     "status": "completed"
    },
    "tags": []
   },
   "outputs": [],
   "source": [
    "df.set_index('Company', inplace = True)"
   ]
  },
  {
   "cell_type": "code",
   "execution_count": 7,
   "id": "0584adb4",
   "metadata": {
    "execution": {
     "iopub.execute_input": "2025-07-07T18:36:07.052884Z",
     "iopub.status.busy": "2025-07-07T18:36:07.052145Z",
     "iopub.status.idle": "2025-07-07T18:36:07.061074Z",
     "shell.execute_reply": "2025-07-07T18:36:07.060323Z"
    },
    "papermill": {
     "duration": 0.014479,
     "end_time": "2025-07-07T18:36:07.062394",
     "exception": false,
     "start_time": "2025-07-07T18:36:07.047915",
     "status": "completed"
    },
    "tags": []
   },
   "outputs": [
    {
     "data": {
      "text/html": [
       "<div>\n",
       "<style scoped>\n",
       "    .dataframe tbody tr th:only-of-type {\n",
       "        vertical-align: middle;\n",
       "    }\n",
       "\n",
       "    .dataframe tbody tr th {\n",
       "        vertical-align: top;\n",
       "    }\n",
       "\n",
       "    .dataframe thead th {\n",
       "        text-align: right;\n",
       "    }\n",
       "</style>\n",
       "<table border=\"1\" class=\"dataframe\">\n",
       "  <thead>\n",
       "    <tr style=\"text-align: right;\">\n",
       "      <th></th>\n",
       "      <th>Job_Role</th>\n",
       "      <th>Location</th>\n",
       "      <th>Job Experience</th>\n",
       "      <th>Skills/Description</th>\n",
       "    </tr>\n",
       "    <tr>\n",
       "      <th>Company</th>\n",
       "      <th></th>\n",
       "      <th></th>\n",
       "      <th></th>\n",
       "      <th></th>\n",
       "    </tr>\n",
       "  </thead>\n",
       "  <tbody>\n",
       "    <tr>\n",
       "      <th>UPL</th>\n",
       "      <td>Senior Data Scientist</td>\n",
       "      <td>Bangalore/Bengaluru, Mumbai (All Areas)</td>\n",
       "      <td>3-6</td>\n",
       "      <td>python, MLT, statistical modeling, machine lea...</td>\n",
       "    </tr>\n",
       "    <tr>\n",
       "      <th>Walmart</th>\n",
       "      <td>Senior Data Scientist</td>\n",
       "      <td>Bangalore/Bengaluru</td>\n",
       "      <td>5-9</td>\n",
       "      <td>Data Science, Machine learning, Python, Azure,...</td>\n",
       "    </tr>\n",
       "    <tr>\n",
       "      <th>SAP India Pvt.Ltd</th>\n",
       "      <td>Applied Data Scientist / ML Senior Engineer (P...</td>\n",
       "      <td>Bangalore/Bengaluru</td>\n",
       "      <td>5-10</td>\n",
       "      <td>Python, IT Skills, Testing, Cloud, Product Man...</td>\n",
       "    </tr>\n",
       "  </tbody>\n",
       "</table>\n",
       "</div>"
      ],
      "text/plain": [
       "                                                            Job_Role  \\\n",
       "Company                                                                \n",
       "UPL                                            Senior Data Scientist   \n",
       "Walmart                                        Senior Data Scientist   \n",
       "SAP India Pvt.Ltd  Applied Data Scientist / ML Senior Engineer (P...   \n",
       "\n",
       "                                                  Location Job Experience  \\\n",
       "Company                                                                     \n",
       "UPL                Bangalore/Bengaluru, Mumbai (All Areas)            3-6   \n",
       "Walmart                                Bangalore/Bengaluru            5-9   \n",
       "SAP India Pvt.Ltd                      Bangalore/Bengaluru           5-10   \n",
       "\n",
       "                                                  Skills/Description  \n",
       "Company                                                               \n",
       "UPL                python, MLT, statistical modeling, machine lea...  \n",
       "Walmart            Data Science, Machine learning, Python, Azure,...  \n",
       "SAP India Pvt.Ltd  Python, IT Skills, Testing, Cloud, Product Man...  "
      ]
     },
     "execution_count": 7,
     "metadata": {},
     "output_type": "execute_result"
    }
   ],
   "source": [
    "df.head(3)"
   ]
  },
  {
   "cell_type": "code",
   "execution_count": 8,
   "id": "544704d6",
   "metadata": {
    "execution": {
     "iopub.execute_input": "2025-07-07T18:36:07.070538Z",
     "iopub.status.busy": "2025-07-07T18:36:07.070251Z",
     "iopub.status.idle": "2025-07-07T18:36:07.075177Z",
     "shell.execute_reply": "2025-07-07T18:36:07.074482Z"
    },
    "papermill": {
     "duration": 0.010616,
     "end_time": "2025-07-07T18:36:07.076538",
     "exception": false,
     "start_time": "2025-07-07T18:36:07.065922",
     "status": "completed"
    },
    "tags": []
   },
   "outputs": [],
   "source": [
    "# For making any other column as the index first reset the dataset if not then the existing index column will be dropped off by default\n",
    "df.reset_index(inplace = True)"
   ]
  },
  {
   "cell_type": "code",
   "execution_count": 9,
   "id": "ba0bfdb0",
   "metadata": {
    "execution": {
     "iopub.execute_input": "2025-07-07T18:36:07.084940Z",
     "iopub.status.busy": "2025-07-07T18:36:07.084639Z",
     "iopub.status.idle": "2025-07-07T18:36:07.093819Z",
     "shell.execute_reply": "2025-07-07T18:36:07.093041Z"
    },
    "papermill": {
     "duration": 0.01472,
     "end_time": "2025-07-07T18:36:07.095024",
     "exception": false,
     "start_time": "2025-07-07T18:36:07.080304",
     "status": "completed"
    },
    "tags": []
   },
   "outputs": [
    {
     "data": {
      "text/html": [
       "<div>\n",
       "<style scoped>\n",
       "    .dataframe tbody tr th:only-of-type {\n",
       "        vertical-align: middle;\n",
       "    }\n",
       "\n",
       "    .dataframe tbody tr th {\n",
       "        vertical-align: top;\n",
       "    }\n",
       "\n",
       "    .dataframe thead th {\n",
       "        text-align: right;\n",
       "    }\n",
       "</style>\n",
       "<table border=\"1\" class=\"dataframe\">\n",
       "  <thead>\n",
       "    <tr style=\"text-align: right;\">\n",
       "      <th></th>\n",
       "      <th>Company</th>\n",
       "      <th>Job_Role</th>\n",
       "      <th>Location</th>\n",
       "      <th>Job Experience</th>\n",
       "      <th>Skills/Description</th>\n",
       "    </tr>\n",
       "  </thead>\n",
       "  <tbody>\n",
       "    <tr>\n",
       "      <th>0</th>\n",
       "      <td>UPL</td>\n",
       "      <td>Senior Data Scientist</td>\n",
       "      <td>Bangalore/Bengaluru, Mumbai (All Areas)</td>\n",
       "      <td>3-6</td>\n",
       "      <td>python, MLT, statistical modeling, machine lea...</td>\n",
       "    </tr>\n",
       "    <tr>\n",
       "      <th>1</th>\n",
       "      <td>Walmart</td>\n",
       "      <td>Senior Data Scientist</td>\n",
       "      <td>Bangalore/Bengaluru</td>\n",
       "      <td>5-9</td>\n",
       "      <td>Data Science, Machine learning, Python, Azure,...</td>\n",
       "    </tr>\n",
       "  </tbody>\n",
       "</table>\n",
       "</div>"
      ],
      "text/plain": [
       "   Company               Job_Role                                 Location  \\\n",
       "0      UPL  Senior Data Scientist  Bangalore/Bengaluru, Mumbai (All Areas)   \n",
       "1  Walmart  Senior Data Scientist                      Bangalore/Bengaluru   \n",
       "\n",
       "  Job Experience                                 Skills/Description  \n",
       "0            3-6  python, MLT, statistical modeling, machine lea...  \n",
       "1            5-9  Data Science, Machine learning, Python, Azure,...  "
      ]
     },
     "execution_count": 9,
     "metadata": {},
     "output_type": "execute_result"
    }
   ],
   "source": [
    "df.head(2)"
   ]
  },
  {
   "cell_type": "code",
   "execution_count": null,
   "id": "d6679a1d",
   "metadata": {
    "papermill": {
     "duration": 0.003359,
     "end_time": "2025-07-07T18:36:07.102094",
     "exception": false,
     "start_time": "2025-07-07T18:36:07.098735",
     "status": "completed"
    },
    "tags": []
   },
   "outputs": [],
   "source": []
  },
  {
   "cell_type": "code",
   "execution_count": null,
   "id": "cd528aba",
   "metadata": {
    "papermill": {
     "duration": 0.003248,
     "end_time": "2025-07-07T18:36:07.108841",
     "exception": false,
     "start_time": "2025-07-07T18:36:07.105593",
     "status": "completed"
    },
    "tags": []
   },
   "outputs": [],
   "source": []
  },
  {
   "cell_type": "code",
   "execution_count": null,
   "id": "999271ca",
   "metadata": {
    "papermill": {
     "duration": 0.003202,
     "end_time": "2025-07-07T18:36:07.115415",
     "exception": false,
     "start_time": "2025-07-07T18:36:07.112213",
     "status": "completed"
    },
    "tags": []
   },
   "outputs": [],
   "source": []
  },
  {
   "cell_type": "code",
   "execution_count": null,
   "id": "c977717d",
   "metadata": {
    "papermill": {
     "duration": 0.003115,
     "end_time": "2025-07-07T18:36:07.121912",
     "exception": false,
     "start_time": "2025-07-07T18:36:07.118797",
     "status": "completed"
    },
    "tags": []
   },
   "outputs": [],
   "source": []
  }
 ],
 "metadata": {
  "kaggle": {
   "accelerator": "none",
   "dataSources": [
    {
     "datasetId": 7821312,
     "sourceId": 12402425,
     "sourceType": "datasetVersion"
    }
   ],
   "dockerImageVersionId": 31040,
   "isGpuEnabled": false,
   "isInternetEnabled": true,
   "language": "python",
   "sourceType": "notebook"
  },
  "kernelspec": {
   "display_name": "Python 3",
   "language": "python",
   "name": "python3"
  },
  "language_info": {
   "codemirror_mode": {
    "name": "ipython",
    "version": 3
   },
   "file_extension": ".py",
   "mimetype": "text/x-python",
   "name": "python",
   "nbconvert_exporter": "python",
   "pygments_lexer": "ipython3",
   "version": "3.11.11"
  },
  "papermill": {
   "default_parameters": {},
   "duration": 7.20395,
   "end_time": "2025-07-07T18:36:07.644821",
   "environment_variables": {},
   "exception": null,
   "input_path": "__notebook__.ipynb",
   "output_path": "__notebook__.ipynb",
   "parameters": {},
   "start_time": "2025-07-07T18:36:00.440871",
   "version": "2.6.0"
  }
 },
 "nbformat": 4,
 "nbformat_minor": 5
}
