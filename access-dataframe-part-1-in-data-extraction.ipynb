{
 "cells": [
  {
   "cell_type": "code",
   "execution_count": 1,
   "id": "8f7ed20d",
   "metadata": {
    "_cell_guid": "b1076dfc-b9ad-4769-8c92-a6c4dae69d19",
    "_uuid": "8f2839f25d086af736a60e9eeb907d3b93b6e0e5",
    "execution": {
     "iopub.execute_input": "2025-07-07T18:58:34.568919Z",
     "iopub.status.busy": "2025-07-07T18:58:34.567998Z",
     "iopub.status.idle": "2025-07-07T18:58:36.269127Z",
     "shell.execute_reply": "2025-07-07T18:58:36.268134Z"
    },
    "papermill": {
     "duration": 1.707847,
     "end_time": "2025-07-07T18:58:36.270820",
     "exception": false,
     "start_time": "2025-07-07T18:58:34.562973",
     "status": "completed"
    },
    "tags": []
   },
   "outputs": [],
   "source": [
    "import numpy as np \n",
    "import pandas as pd \n"
   ]
  },
  {
   "cell_type": "code",
   "execution_count": 2,
   "id": "32c49069",
   "metadata": {
    "execution": {
     "iopub.execute_input": "2025-07-07T18:58:36.277741Z",
     "iopub.status.busy": "2025-07-07T18:58:36.277402Z",
     "iopub.status.idle": "2025-07-07T18:58:36.405568Z",
     "shell.execute_reply": "2025-07-07T18:58:36.404715Z"
    },
    "papermill": {
     "duration": 0.133259,
     "end_time": "2025-07-07T18:58:36.407178",
     "exception": false,
     "start_time": "2025-07-07T18:58:36.273919",
     "status": "completed"
    },
    "tags": []
   },
   "outputs": [],
   "source": [
    "df = pd.read_csv('/kaggle/input/12000-data-set-for-data-science-jobs-in-the-india/naukri_data_science_jobs_india.csv', index_col = 'Job_Role')\n",
    "df.head(3)\n",
    "df.sort_index(inplace = True, ascending = False)"
   ]
  },
  {
   "cell_type": "code",
   "execution_count": 3,
   "id": "737f8d70",
   "metadata": {
    "execution": {
     "iopub.execute_input": "2025-07-07T18:58:36.414514Z",
     "iopub.status.busy": "2025-07-07T18:58:36.413898Z",
     "iopub.status.idle": "2025-07-07T18:58:36.432975Z",
     "shell.execute_reply": "2025-07-07T18:58:36.432184Z"
    },
    "papermill": {
     "duration": 0.024212,
     "end_time": "2025-07-07T18:58:36.434364",
     "exception": false,
     "start_time": "2025-07-07T18:58:36.410152",
     "status": "completed"
    },
    "tags": []
   },
   "outputs": [
    {
     "data": {
      "text/html": [
       "<div>\n",
       "<style scoped>\n",
       "    .dataframe tbody tr th:only-of-type {\n",
       "        vertical-align: middle;\n",
       "    }\n",
       "\n",
       "    .dataframe tbody tr th {\n",
       "        vertical-align: top;\n",
       "    }\n",
       "\n",
       "    .dataframe thead th {\n",
       "        text-align: right;\n",
       "    }\n",
       "</style>\n",
       "<table border=\"1\" class=\"dataframe\">\n",
       "  <thead>\n",
       "    <tr style=\"text-align: right;\">\n",
       "      <th></th>\n",
       "      <th>Company</th>\n",
       "      <th>Location</th>\n",
       "      <th>Job Experience</th>\n",
       "      <th>Skills/Description</th>\n",
       "    </tr>\n",
       "    <tr>\n",
       "      <th>Job_Role</th>\n",
       "      <th></th>\n",
       "      <th></th>\n",
       "      <th></th>\n",
       "      <th></th>\n",
       "    </tr>\n",
       "  </thead>\n",
       "  <tbody>\n",
       "    <tr>\n",
       "      <th>urgent requirement For data scientist</th>\n",
       "      <td>Orcapod Consulting Services Private Limited</td>\n",
       "      <td>Hyderabad/Secunderabad</td>\n",
       "      <td>4-6</td>\n",
       "      <td>git, written communication, unit testing, obje...</td>\n",
       "    </tr>\n",
       "    <tr>\n",
       "      <th>urgent hiring For data engineers - bang / any</th>\n",
       "      <td>Experis IT Private Limited</td>\n",
       "      <td>Bangalore/Bengaluru, any</td>\n",
       "      <td>3-5</td>\n",
       "      <td>hive, cloudera, python, NoSQL, spark, Cassadra...</td>\n",
       "    </tr>\n",
       "    <tr>\n",
       "      <th>senior python developer</th>\n",
       "      <td>Talent Zone Consultant</td>\n",
       "      <td>Bangalore/Bengaluru</td>\n",
       "      <td>8-10</td>\n",
       "      <td>Performance tuning, Automation, Backend, HP da...</td>\n",
       "    </tr>\n",
       "    <tr>\n",
       "      <th>senior bigdata engineer or data architect</th>\n",
       "      <td>Rectras Business Solutions Pvt Ltd.</td>\n",
       "      <td>Pune, Chennai, Bengaluru</td>\n",
       "      <td>4-9</td>\n",
       "      <td>Automation, Data analysis, Prototype, Applicat...</td>\n",
       "    </tr>\n",
       "    <tr>\n",
       "      <th>senior Data Analyst</th>\n",
       "      <td>Spectral Consultants</td>\n",
       "      <td>Pune</td>\n",
       "      <td>2-5</td>\n",
       "      <td>Logistic regression, Data analysis, Factor ana...</td>\n",
       "    </tr>\n",
       "    <tr>\n",
       "      <th>senior Analyst</th>\n",
       "      <td>BNP Paribas</td>\n",
       "      <td>Chennai</td>\n",
       "      <td>2-5</td>\n",
       "      <td>Analyst, Front office, Due diligence, Collater...</td>\n",
       "    </tr>\n",
       "    <tr>\n",
       "      <th>python developer</th>\n",
       "      <td>Talent Zone Consultant</td>\n",
       "      <td>Bangalore/Bengaluru</td>\n",
       "      <td>2-6</td>\n",
       "      <td>Computer science, Cloud computing, software ar...</td>\n",
       "    </tr>\n",
       "    <tr>\n",
       "      <th>product engineers</th>\n",
       "      <td>Superior Group</td>\n",
       "      <td>Bangalore/Bengaluru</td>\n",
       "      <td>10-15</td>\n",
       "      <td>Computer science, Hibernate, Software design, ...</td>\n",
       "    </tr>\n",
       "    <tr>\n",
       "      <th>opening For Data Scientist_Hyderabad</th>\n",
       "      <td>Inventech Info Solutions Pvt. Ltd.</td>\n",
       "      <td>Angul, Bellary/Ballari, Bareilly, Anantapur, H...</td>\n",
       "      <td>2-6</td>\n",
       "      <td>HIVE, R, Shell, Shell., SQL, Python</td>\n",
       "    </tr>\n",
       "    <tr>\n",
       "      <th>market research analyst</th>\n",
       "      <td>Seven Consultancy</td>\n",
       "      <td>lunglei,mizoram</td>\n",
       "      <td>4-5</td>\n",
       "      <td>Market Research Analyst, Data collection, Digi...</td>\n",
       "    </tr>\n",
       "  </tbody>\n",
       "</table>\n",
       "</div>"
      ],
      "text/plain": [
       "                                                                                   Company  \\\n",
       "Job_Role                                                                                     \n",
       "urgent requirement For data scientist          Orcapod Consulting Services Private Limited   \n",
       "urgent hiring For data engineers - bang / any                   Experis IT Private Limited   \n",
       "senior python developer                                             Talent Zone Consultant   \n",
       "senior bigdata engineer or data architect              Rectras Business Solutions Pvt Ltd.   \n",
       "senior Data Analyst                                                   Spectral Consultants   \n",
       "senior Analyst                                                                 BNP Paribas   \n",
       "python developer                                                    Talent Zone Consultant   \n",
       "product engineers                                                           Superior Group   \n",
       "opening For Data Scientist_Hyderabad                    Inventech Info Solutions Pvt. Ltd.   \n",
       "market research analyst                                                  Seven Consultancy   \n",
       "\n",
       "                                                                                        Location  \\\n",
       "Job_Role                                                                                           \n",
       "urgent requirement For data scientist                                     Hyderabad/Secunderabad   \n",
       "urgent hiring For data engineers - bang / any                           Bangalore/Bengaluru, any   \n",
       "senior python developer                                                      Bangalore/Bengaluru   \n",
       "senior bigdata engineer or data architect                               Pune, Chennai, Bengaluru   \n",
       "senior Data Analyst                                                                         Pune   \n",
       "senior Analyst                                                                           Chennai   \n",
       "python developer                                                             Bangalore/Bengaluru   \n",
       "product engineers                                                            Bangalore/Bengaluru   \n",
       "opening For Data Scientist_Hyderabad           Angul, Bellary/Ballari, Bareilly, Anantapur, H...   \n",
       "market research analyst                                                          lunglei,mizoram   \n",
       "\n",
       "                                              Job Experience  \\\n",
       "Job_Role                                                       \n",
       "urgent requirement For data scientist                    4-6   \n",
       "urgent hiring For data engineers - bang / any            3-5   \n",
       "senior python developer                                 8-10   \n",
       "senior bigdata engineer or data architect                4-9   \n",
       "senior Data Analyst                                      2-5   \n",
       "senior Analyst                                           2-5   \n",
       "python developer                                         2-6   \n",
       "product engineers                                      10-15   \n",
       "opening For Data Scientist_Hyderabad                     2-6   \n",
       "market research analyst                                  4-5   \n",
       "\n",
       "                                                                              Skills/Description  \n",
       "Job_Role                                                                                          \n",
       "urgent requirement For data scientist          git, written communication, unit testing, obje...  \n",
       "urgent hiring For data engineers - bang / any  hive, cloudera, python, NoSQL, spark, Cassadra...  \n",
       "senior python developer                        Performance tuning, Automation, Backend, HP da...  \n",
       "senior bigdata engineer or data architect      Automation, Data analysis, Prototype, Applicat...  \n",
       "senior Data Analyst                            Logistic regression, Data analysis, Factor ana...  \n",
       "senior Analyst                                 Analyst, Front office, Due diligence, Collater...  \n",
       "python developer                               Computer science, Cloud computing, software ar...  \n",
       "product engineers                              Computer science, Hibernate, Software design, ...  \n",
       "opening For Data Scientist_Hyderabad                         HIVE, R, Shell, Shell., SQL, Python  \n",
       "market research analyst                        Market Research Analyst, Data collection, Digi...  "
      ]
     },
     "execution_count": 3,
     "metadata": {},
     "output_type": "execute_result"
    }
   ],
   "source": [
    "df.head(10)"
   ]
  },
  {
   "cell_type": "code",
   "execution_count": 4,
   "id": "85f54eae",
   "metadata": {
    "execution": {
     "iopub.execute_input": "2025-07-07T18:58:36.441436Z",
     "iopub.status.busy": "2025-07-07T18:58:36.441149Z",
     "iopub.status.idle": "2025-07-07T18:58:36.448838Z",
     "shell.execute_reply": "2025-07-07T18:58:36.448080Z"
    },
    "papermill": {
     "duration": 0.012882,
     "end_time": "2025-07-07T18:58:36.450290",
     "exception": false,
     "start_time": "2025-07-07T18:58:36.437408",
     "status": "completed"
    },
    "tags": []
   },
   "outputs": [
    {
     "data": {
      "text/plain": [
       "Company                                                        Snaphunt\n",
       "Location                                                          Surat\n",
       "Job Experience                                                      0-5\n",
       "Skills/Description    .Net, Javascript, C#, HTML, ASP Net, SQL, anal...\n",
       "Name: .NET Developer, dtype: object"
      ]
     },
     "execution_count": 4,
     "metadata": {},
     "output_type": "execute_result"
    }
   ],
   "source": [
    "df.loc['.NET Developer']"
   ]
  },
  {
   "cell_type": "code",
   "execution_count": 5,
   "id": "db69c69e",
   "metadata": {
    "execution": {
     "iopub.execute_input": "2025-07-07T18:58:36.458152Z",
     "iopub.status.busy": "2025-07-07T18:58:36.457515Z",
     "iopub.status.idle": "2025-07-07T18:58:36.464017Z",
     "shell.execute_reply": "2025-07-07T18:58:36.463372Z"
    },
    "papermill": {
     "duration": 0.011835,
     "end_time": "2025-07-07T18:58:36.465345",
     "exception": false,
     "start_time": "2025-07-07T18:58:36.453510",
     "status": "completed"
    },
    "tags": []
   },
   "outputs": [
    {
     "data": {
      "text/plain": [
       "Company                                                       Accenture\n",
       "Location                                            Bangalore/Bengaluru\n",
       "Job Experience                                                      3-5\n",
       "Skills/Description    Data Modelling, IT Skills, Machine Learning, C...\n",
       "Name: ACN - Applied Intelligence - C4DI - Data Modelling - 06, dtype: object"
      ]
     },
     "execution_count": 5,
     "metadata": {},
     "output_type": "execute_result"
    }
   ],
   "source": [
    "df.loc['ACN - Applied Intelligence - C4DI - Data Modelling - 06']"
   ]
  },
  {
   "cell_type": "code",
   "execution_count": 6,
   "id": "4ef8cf5f",
   "metadata": {
    "execution": {
     "iopub.execute_input": "2025-07-07T18:58:36.472811Z",
     "iopub.status.busy": "2025-07-07T18:58:36.472583Z",
     "iopub.status.idle": "2025-07-07T18:58:36.482635Z",
     "shell.execute_reply": "2025-07-07T18:58:36.481914Z"
    },
    "papermill": {
     "duration": 0.015377,
     "end_time": "2025-07-07T18:58:36.483970",
     "exception": false,
     "start_time": "2025-07-07T18:58:36.468593",
     "status": "completed"
    },
    "tags": []
   },
   "outputs": [
    {
     "data": {
      "text/html": [
       "<div>\n",
       "<style scoped>\n",
       "    .dataframe tbody tr th:only-of-type {\n",
       "        vertical-align: middle;\n",
       "    }\n",
       "\n",
       "    .dataframe tbody tr th {\n",
       "        vertical-align: top;\n",
       "    }\n",
       "\n",
       "    .dataframe thead th {\n",
       "        text-align: right;\n",
       "    }\n",
       "</style>\n",
       "<table border=\"1\" class=\"dataframe\">\n",
       "  <thead>\n",
       "    <tr style=\"text-align: right;\">\n",
       "      <th></th>\n",
       "      <th>Company</th>\n",
       "      <th>Location</th>\n",
       "      <th>Job Experience</th>\n",
       "      <th>Skills/Description</th>\n",
       "    </tr>\n",
       "    <tr>\n",
       "      <th>Job_Role</th>\n",
       "      <th></th>\n",
       "      <th></th>\n",
       "      <th></th>\n",
       "      <th></th>\n",
       "    </tr>\n",
       "  </thead>\n",
       "  <tbody>\n",
       "    <tr>\n",
       "      <th>Data Analyst</th>\n",
       "      <td>Klub</td>\n",
       "      <td>Bangalore/Bengaluru</td>\n",
       "      <td>1-4</td>\n",
       "      <td>Data Science, Sas, Database Design Development...</td>\n",
       "    </tr>\n",
       "    <tr>\n",
       "      <th>Data Analyst</th>\n",
       "      <td>CoStrategix Technologies Pvt. Ltd.</td>\n",
       "      <td>Bengaluru</td>\n",
       "      <td>5-10</td>\n",
       "      <td>BPO, data analysis, Data validation, Agile, bu...</td>\n",
       "    </tr>\n",
       "    <tr>\n",
       "      <th>Data Analyst</th>\n",
       "      <td>AGRIM</td>\n",
       "      <td>Gurgaon/Gurugram</td>\n",
       "      <td>1-3</td>\n",
       "      <td>SAN, PDF, SOC, Analytical, SMS, Data Analyst, ...</td>\n",
       "    </tr>\n",
       "    <tr>\n",
       "      <th>Data Analyst</th>\n",
       "      <td>Glassbeam, Inc</td>\n",
       "      <td>Bengaluru</td>\n",
       "      <td>1-3</td>\n",
       "      <td>Data Analysis, Data Analyst</td>\n",
       "    </tr>\n",
       "    <tr>\n",
       "      <th>Data Analyst</th>\n",
       "      <td>Samyak Infotech Pvt. Ltd</td>\n",
       "      <td>Ahmedabad</td>\n",
       "      <td>3-5</td>\n",
       "      <td>IT Skills, Machine Learning, Cloud, Tableau, C...</td>\n",
       "    </tr>\n",
       "    <tr>\n",
       "      <th>...</th>\n",
       "      <td>...</td>\n",
       "      <td>...</td>\n",
       "      <td>...</td>\n",
       "      <td>...</td>\n",
       "    </tr>\n",
       "    <tr>\n",
       "      <th>Data Analyst</th>\n",
       "      <td>Bayer India</td>\n",
       "      <td>Mangaluru/Mangalore, Mangalore</td>\n",
       "      <td>2-2</td>\n",
       "      <td>Spotfire, Biostatistics, Azure, Power BI, Data...</td>\n",
       "    </tr>\n",
       "    <tr>\n",
       "      <th>Data Analyst</th>\n",
       "      <td>fundinfo AG</td>\n",
       "      <td>Chennai</td>\n",
       "      <td>1-2</td>\n",
       "      <td>Financial sector, Mutual funds, Analytical, MS...</td>\n",
       "    </tr>\n",
       "    <tr>\n",
       "      <th>Data Analyst</th>\n",
       "      <td>St. John’s Research Institute</td>\n",
       "      <td>Bengaluru</td>\n",
       "      <td>0-4</td>\n",
       "      <td>Nutrition, Coding, CRC, Data Analyst, Research...</td>\n",
       "    </tr>\n",
       "    <tr>\n",
       "      <th>Data Analyst</th>\n",
       "      <td>Malbro appliances Pvt. ltd</td>\n",
       "      <td>New Delhi(Udyog Nagar)</td>\n",
       "      <td>2-7</td>\n",
       "      <td>Excel, Accounting, Data Analysis, data audit, CRM</td>\n",
       "    </tr>\n",
       "    <tr>\n",
       "      <th>Data Analyst</th>\n",
       "      <td>POST A RESUME HR Consultancy</td>\n",
       "      <td>Ahmedabad</td>\n",
       "      <td>0-4</td>\n",
       "      <td>Excel, MIS, Analytical, Retail analysis, Data ...</td>\n",
       "    </tr>\n",
       "  </tbody>\n",
       "</table>\n",
       "<p>353 rows × 4 columns</p>\n",
       "</div>"
      ],
      "text/plain": [
       "                                         Company  \\\n",
       "Job_Role                                           \n",
       "Data Analyst                                Klub   \n",
       "Data Analyst  CoStrategix Technologies Pvt. Ltd.   \n",
       "Data Analyst                               AGRIM   \n",
       "Data Analyst                      Glassbeam, Inc   \n",
       "Data Analyst            Samyak Infotech Pvt. Ltd   \n",
       "...                                          ...   \n",
       "Data Analyst                         Bayer India   \n",
       "Data Analyst                         fundinfo AG   \n",
       "Data Analyst       St. John’s Research Institute   \n",
       "Data Analyst          Malbro appliances Pvt. ltd   \n",
       "Data Analyst        POST A RESUME HR Consultancy   \n",
       "\n",
       "                                    Location Job Experience  \\\n",
       "Job_Role                                                      \n",
       "Data Analyst             Bangalore/Bengaluru            1-4   \n",
       "Data Analyst                       Bengaluru           5-10   \n",
       "Data Analyst                Gurgaon/Gurugram            1-3   \n",
       "Data Analyst                       Bengaluru            1-3   \n",
       "Data Analyst                       Ahmedabad            3-5   \n",
       "...                                      ...            ...   \n",
       "Data Analyst  Mangaluru/Mangalore, Mangalore            2-2   \n",
       "Data Analyst                         Chennai            1-2   \n",
       "Data Analyst                       Bengaluru            0-4   \n",
       "Data Analyst          New Delhi(Udyog Nagar)            2-7   \n",
       "Data Analyst                       Ahmedabad            0-4   \n",
       "\n",
       "                                             Skills/Description  \n",
       "Job_Role                                                         \n",
       "Data Analyst  Data Science, Sas, Database Design Development...  \n",
       "Data Analyst  BPO, data analysis, Data validation, Agile, bu...  \n",
       "Data Analyst  SAN, PDF, SOC, Analytical, SMS, Data Analyst, ...  \n",
       "Data Analyst                        Data Analysis, Data Analyst  \n",
       "Data Analyst  IT Skills, Machine Learning, Cloud, Tableau, C...  \n",
       "...                                                         ...  \n",
       "Data Analyst  Spotfire, Biostatistics, Azure, Power BI, Data...  \n",
       "Data Analyst  Financial sector, Mutual funds, Analytical, MS...  \n",
       "Data Analyst  Nutrition, Coding, CRC, Data Analyst, Research...  \n",
       "Data Analyst  Excel, Accounting, Data Analysis, data audit, CRM  \n",
       "Data Analyst  Excel, MIS, Analytical, Retail analysis, Data ...  \n",
       "\n",
       "[353 rows x 4 columns]"
      ]
     },
     "execution_count": 6,
     "metadata": {},
     "output_type": "execute_result"
    }
   ],
   "source": [
    "df.loc['Data Analyst']"
   ]
  },
  {
   "cell_type": "code",
   "execution_count": 7,
   "id": "28d2e828",
   "metadata": {
    "execution": {
     "iopub.execute_input": "2025-07-07T18:58:36.492170Z",
     "iopub.status.busy": "2025-07-07T18:58:36.491830Z",
     "iopub.status.idle": "2025-07-07T18:58:36.499610Z",
     "shell.execute_reply": "2025-07-07T18:58:36.498808Z"
    },
    "papermill": {
     "duration": 0.013439,
     "end_time": "2025-07-07T18:58:36.501016",
     "exception": false,
     "start_time": "2025-07-07T18:58:36.487577",
     "status": "completed"
    },
    "tags": []
   },
   "outputs": [
    {
     "data": {
      "text/plain": [
       "Company                                                        Snaphunt\n",
       "Location                                                          Noida\n",
       "Job Experience                                                      0-5\n",
       "Skills/Description    web technologies, web development, IT Skills, ...\n",
       "Name: Web Developer, dtype: object"
      ]
     },
     "execution_count": 7,
     "metadata": {},
     "output_type": "execute_result"
    }
   ],
   "source": [
    "df.loc['Web Developer']"
   ]
  },
  {
   "cell_type": "code",
   "execution_count": 8,
   "id": "d35ffa42",
   "metadata": {
    "execution": {
     "iopub.execute_input": "2025-07-07T18:58:36.509178Z",
     "iopub.status.busy": "2025-07-07T18:58:36.508920Z",
     "iopub.status.idle": "2025-07-07T18:58:36.518640Z",
     "shell.execute_reply": "2025-07-07T18:58:36.517854Z"
    },
    "papermill": {
     "duration": 0.015613,
     "end_time": "2025-07-07T18:58:36.520228",
     "exception": false,
     "start_time": "2025-07-07T18:58:36.504615",
     "status": "completed"
    },
    "tags": []
   },
   "outputs": [
    {
     "data": {
      "text/html": [
       "<div>\n",
       "<style scoped>\n",
       "    .dataframe tbody tr th:only-of-type {\n",
       "        vertical-align: middle;\n",
       "    }\n",
       "\n",
       "    .dataframe tbody tr th {\n",
       "        vertical-align: top;\n",
       "    }\n",
       "\n",
       "    .dataframe thead th {\n",
       "        text-align: right;\n",
       "    }\n",
       "</style>\n",
       "<table border=\"1\" class=\"dataframe\">\n",
       "  <thead>\n",
       "    <tr style=\"text-align: right;\">\n",
       "      <th></th>\n",
       "      <th>Company</th>\n",
       "      <th>Location</th>\n",
       "      <th>Job Experience</th>\n",
       "      <th>Skills/Description</th>\n",
       "    </tr>\n",
       "    <tr>\n",
       "      <th>Job_Role</th>\n",
       "      <th></th>\n",
       "      <th></th>\n",
       "      <th></th>\n",
       "      <th></th>\n",
       "    </tr>\n",
       "  </thead>\n",
       "  <tbody>\n",
       "    <tr>\n",
       "      <th>urgent requirement For data scientist</th>\n",
       "      <td>Orcapod Consulting Services Private Limited</td>\n",
       "      <td>Hyderabad/Secunderabad</td>\n",
       "      <td>4-6</td>\n",
       "      <td>git, written communication, unit testing, obje...</td>\n",
       "    </tr>\n",
       "    <tr>\n",
       "      <th>urgent hiring For data engineers - bang / any</th>\n",
       "      <td>Experis IT Private Limited</td>\n",
       "      <td>Bangalore/Bengaluru, any</td>\n",
       "      <td>3-5</td>\n",
       "      <td>hive, cloudera, python, NoSQL, spark, Cassadra...</td>\n",
       "    </tr>\n",
       "    <tr>\n",
       "      <th>senior python developer</th>\n",
       "      <td>Talent Zone Consultant</td>\n",
       "      <td>Bangalore/Bengaluru</td>\n",
       "      <td>8-10</td>\n",
       "      <td>Performance tuning, Automation, Backend, HP da...</td>\n",
       "    </tr>\n",
       "    <tr>\n",
       "      <th>senior bigdata engineer or data architect</th>\n",
       "      <td>Rectras Business Solutions Pvt Ltd.</td>\n",
       "      <td>Pune, Chennai, Bengaluru</td>\n",
       "      <td>4-9</td>\n",
       "      <td>Automation, Data analysis, Prototype, Applicat...</td>\n",
       "    </tr>\n",
       "    <tr>\n",
       "      <th>senior Data Analyst</th>\n",
       "      <td>Spectral Consultants</td>\n",
       "      <td>Pune</td>\n",
       "      <td>2-5</td>\n",
       "      <td>Logistic regression, Data analysis, Factor ana...</td>\n",
       "    </tr>\n",
       "  </tbody>\n",
       "</table>\n",
       "</div>"
      ],
      "text/plain": [
       "                                                                                   Company  \\\n",
       "Job_Role                                                                                     \n",
       "urgent requirement For data scientist          Orcapod Consulting Services Private Limited   \n",
       "urgent hiring For data engineers - bang / any                   Experis IT Private Limited   \n",
       "senior python developer                                             Talent Zone Consultant   \n",
       "senior bigdata engineer or data architect              Rectras Business Solutions Pvt Ltd.   \n",
       "senior Data Analyst                                                   Spectral Consultants   \n",
       "\n",
       "                                                               Location  \\\n",
       "Job_Role                                                                  \n",
       "urgent requirement For data scientist            Hyderabad/Secunderabad   \n",
       "urgent hiring For data engineers - bang / any  Bangalore/Bengaluru, any   \n",
       "senior python developer                             Bangalore/Bengaluru   \n",
       "senior bigdata engineer or data architect      Pune, Chennai, Bengaluru   \n",
       "senior Data Analyst                                                Pune   \n",
       "\n",
       "                                              Job Experience  \\\n",
       "Job_Role                                                       \n",
       "urgent requirement For data scientist                    4-6   \n",
       "urgent hiring For data engineers - bang / any            3-5   \n",
       "senior python developer                                 8-10   \n",
       "senior bigdata engineer or data architect                4-9   \n",
       "senior Data Analyst                                      2-5   \n",
       "\n",
       "                                                                              Skills/Description  \n",
       "Job_Role                                                                                          \n",
       "urgent requirement For data scientist          git, written communication, unit testing, obje...  \n",
       "urgent hiring For data engineers - bang / any  hive, cloudera, python, NoSQL, spark, Cassadra...  \n",
       "senior python developer                        Performance tuning, Automation, Backend, HP da...  \n",
       "senior bigdata engineer or data architect      Automation, Data analysis, Prototype, Applicat...  \n",
       "senior Data Analyst                            Logistic regression, Data analysis, Factor ana...  "
      ]
     },
     "execution_count": 8,
     "metadata": {},
     "output_type": "execute_result"
    }
   ],
   "source": [
    "df.head()"
   ]
  },
  {
   "cell_type": "code",
   "execution_count": 9,
   "id": "eaedd968",
   "metadata": {
    "execution": {
     "iopub.execute_input": "2025-07-07T18:58:36.529117Z",
     "iopub.status.busy": "2025-07-07T18:58:36.528826Z",
     "iopub.status.idle": "2025-07-07T18:58:36.539275Z",
     "shell.execute_reply": "2025-07-07T18:58:36.538550Z"
    },
    "papermill": {
     "duration": 0.016559,
     "end_time": "2025-07-07T18:58:36.540633",
     "exception": false,
     "start_time": "2025-07-07T18:58:36.524074",
     "status": "completed"
    },
    "tags": []
   },
   "outputs": [
    {
     "data": {
      "text/html": [
       "<div>\n",
       "<style scoped>\n",
       "    .dataframe tbody tr th:only-of-type {\n",
       "        vertical-align: middle;\n",
       "    }\n",
       "\n",
       "    .dataframe tbody tr th {\n",
       "        vertical-align: top;\n",
       "    }\n",
       "\n",
       "    .dataframe thead th {\n",
       "        text-align: right;\n",
       "    }\n",
       "</style>\n",
       "<table border=\"1\" class=\"dataframe\">\n",
       "  <thead>\n",
       "    <tr style=\"text-align: right;\">\n",
       "      <th></th>\n",
       "      <th>Company</th>\n",
       "      <th>Location</th>\n",
       "      <th>Job Experience</th>\n",
       "      <th>Skills/Description</th>\n",
       "    </tr>\n",
       "    <tr>\n",
       "      <th>Job_Role</th>\n",
       "      <th></th>\n",
       "      <th></th>\n",
       "      <th></th>\n",
       "      <th></th>\n",
       "    </tr>\n",
       "  </thead>\n",
       "  <tbody>\n",
       "    <tr>\n",
       "      <th>senior Data Analyst</th>\n",
       "      <td>Spectral Consultants</td>\n",
       "      <td>Pune</td>\n",
       "      <td>2-5</td>\n",
       "      <td>Logistic regression, Data analysis, Factor ana...</td>\n",
       "    </tr>\n",
       "    <tr>\n",
       "      <th>senior bigdata engineer or data architect</th>\n",
       "      <td>Rectras Business Solutions Pvt Ltd.</td>\n",
       "      <td>Pune, Chennai, Bengaluru</td>\n",
       "      <td>4-9</td>\n",
       "      <td>Automation, Data analysis, Prototype, Applicat...</td>\n",
       "    </tr>\n",
       "  </tbody>\n",
       "</table>\n",
       "</div>"
      ],
      "text/plain": [
       "                                                                       Company  \\\n",
       "Job_Role                                                                         \n",
       "senior Data Analyst                                       Spectral Consultants   \n",
       "senior bigdata engineer or data architect  Rectras Business Solutions Pvt Ltd.   \n",
       "\n",
       "                                                           Location  \\\n",
       "Job_Role                                                              \n",
       "senior Data Analyst                                            Pune   \n",
       "senior bigdata engineer or data architect  Pune, Chennai, Bengaluru   \n",
       "\n",
       "                                          Job Experience  \\\n",
       "Job_Role                                                   \n",
       "senior Data Analyst                                  2-5   \n",
       "senior bigdata engineer or data architect            4-9   \n",
       "\n",
       "                                                                          Skills/Description  \n",
       "Job_Role                                                                                      \n",
       "senior Data Analyst                        Logistic regression, Data analysis, Factor ana...  \n",
       "senior bigdata engineer or data architect  Automation, Data analysis, Prototype, Applicat...  "
      ]
     },
     "execution_count": 9,
     "metadata": {},
     "output_type": "execute_result"
    }
   ],
   "source": [
    "df.loc[['senior Data Analyst','senior bigdata engineer or data architect']]"
   ]
  },
  {
   "cell_type": "code",
   "execution_count": 10,
   "id": "801ad60e",
   "metadata": {
    "execution": {
     "iopub.execute_input": "2025-07-07T18:58:36.549694Z",
     "iopub.status.busy": "2025-07-07T18:58:36.549180Z",
     "iopub.status.idle": "2025-07-07T18:58:36.561525Z",
     "shell.execute_reply": "2025-07-07T18:58:36.560755Z"
    },
    "papermill": {
     "duration": 0.018186,
     "end_time": "2025-07-07T18:58:36.562770",
     "exception": false,
     "start_time": "2025-07-07T18:58:36.544584",
     "status": "completed"
    },
    "tags": []
   },
   "outputs": [
    {
     "data": {
      "text/html": [
       "<div>\n",
       "<style scoped>\n",
       "    .dataframe tbody tr th:only-of-type {\n",
       "        vertical-align: middle;\n",
       "    }\n",
       "\n",
       "    .dataframe tbody tr th {\n",
       "        vertical-align: top;\n",
       "    }\n",
       "\n",
       "    .dataframe thead th {\n",
       "        text-align: right;\n",
       "    }\n",
       "</style>\n",
       "<table border=\"1\" class=\"dataframe\">\n",
       "  <thead>\n",
       "    <tr style=\"text-align: right;\">\n",
       "      <th></th>\n",
       "      <th>Company</th>\n",
       "      <th>Location</th>\n",
       "      <th>Job Experience</th>\n",
       "      <th>Skills/Description</th>\n",
       "    </tr>\n",
       "    <tr>\n",
       "      <th>Job_Role</th>\n",
       "      <th></th>\n",
       "      <th></th>\n",
       "      <th></th>\n",
       "      <th></th>\n",
       "    </tr>\n",
       "  </thead>\n",
       "  <tbody>\n",
       "    <tr>\n",
       "      <th>urgent requirement For data scientist</th>\n",
       "      <td>Orcapod Consulting Services Private Limited</td>\n",
       "      <td>Hyderabad/Secunderabad</td>\n",
       "      <td>4-6</td>\n",
       "      <td>git, written communication, unit testing, obje...</td>\n",
       "    </tr>\n",
       "    <tr>\n",
       "      <th>urgent hiring For data engineers - bang / any</th>\n",
       "      <td>Experis IT Private Limited</td>\n",
       "      <td>Bangalore/Bengaluru, any</td>\n",
       "      <td>3-5</td>\n",
       "      <td>hive, cloudera, python, NoSQL, spark, Cassadra...</td>\n",
       "    </tr>\n",
       "    <tr>\n",
       "      <th>senior python developer</th>\n",
       "      <td>Talent Zone Consultant</td>\n",
       "      <td>Bangalore/Bengaluru</td>\n",
       "      <td>8-10</td>\n",
       "      <td>Performance tuning, Automation, Backend, HP da...</td>\n",
       "    </tr>\n",
       "    <tr>\n",
       "      <th>senior bigdata engineer or data architect</th>\n",
       "      <td>Rectras Business Solutions Pvt Ltd.</td>\n",
       "      <td>Pune, Chennai, Bengaluru</td>\n",
       "      <td>4-9</td>\n",
       "      <td>Automation, Data analysis, Prototype, Applicat...</td>\n",
       "    </tr>\n",
       "    <tr>\n",
       "      <th>senior Data Analyst</th>\n",
       "      <td>Spectral Consultants</td>\n",
       "      <td>Pune</td>\n",
       "      <td>2-5</td>\n",
       "      <td>Logistic regression, Data analysis, Factor ana...</td>\n",
       "    </tr>\n",
       "  </tbody>\n",
       "</table>\n",
       "</div>"
      ],
      "text/plain": [
       "                                                                                   Company  \\\n",
       "Job_Role                                                                                     \n",
       "urgent requirement For data scientist          Orcapod Consulting Services Private Limited   \n",
       "urgent hiring For data engineers - bang / any                   Experis IT Private Limited   \n",
       "senior python developer                                             Talent Zone Consultant   \n",
       "senior bigdata engineer or data architect              Rectras Business Solutions Pvt Ltd.   \n",
       "senior Data Analyst                                                   Spectral Consultants   \n",
       "\n",
       "                                                               Location  \\\n",
       "Job_Role                                                                  \n",
       "urgent requirement For data scientist            Hyderabad/Secunderabad   \n",
       "urgent hiring For data engineers - bang / any  Bangalore/Bengaluru, any   \n",
       "senior python developer                             Bangalore/Bengaluru   \n",
       "senior bigdata engineer or data architect      Pune, Chennai, Bengaluru   \n",
       "senior Data Analyst                                                Pune   \n",
       "\n",
       "                                              Job Experience  \\\n",
       "Job_Role                                                       \n",
       "urgent requirement For data scientist                    4-6   \n",
       "urgent hiring For data engineers - bang / any            3-5   \n",
       "senior python developer                                 8-10   \n",
       "senior bigdata engineer or data architect                4-9   \n",
       "senior Data Analyst                                      2-5   \n",
       "\n",
       "                                                                              Skills/Description  \n",
       "Job_Role                                                                                          \n",
       "urgent requirement For data scientist          git, written communication, unit testing, obje...  \n",
       "urgent hiring For data engineers - bang / any  hive, cloudera, python, NoSQL, spark, Cassadra...  \n",
       "senior python developer                        Performance tuning, Automation, Backend, HP da...  \n",
       "senior bigdata engineer or data architect      Automation, Data analysis, Prototype, Applicat...  \n",
       "senior Data Analyst                            Logistic regression, Data analysis, Factor ana...  "
      ]
     },
     "execution_count": 10,
     "metadata": {},
     "output_type": "execute_result"
    }
   ],
   "source": [
    "# Slicinig \n",
    "df.loc['urgent requirement For data scientist': 'senior Data Analyst']"
   ]
  },
  {
   "cell_type": "code",
   "execution_count": null,
   "id": "3f4c3bc8",
   "metadata": {
    "papermill": {
     "duration": 0.003755,
     "end_time": "2025-07-07T18:58:36.570990",
     "exception": false,
     "start_time": "2025-07-07T18:58:36.567235",
     "status": "completed"
    },
    "tags": []
   },
   "outputs": [],
   "source": []
  },
  {
   "cell_type": "code",
   "execution_count": null,
   "id": "653071bd",
   "metadata": {
    "papermill": {
     "duration": 0.003726,
     "end_time": "2025-07-07T18:58:36.578800",
     "exception": false,
     "start_time": "2025-07-07T18:58:36.575074",
     "status": "completed"
    },
    "tags": []
   },
   "outputs": [],
   "source": []
  },
  {
   "cell_type": "code",
   "execution_count": null,
   "id": "17d3aab4",
   "metadata": {
    "papermill": {
     "duration": 0.003555,
     "end_time": "2025-07-07T18:58:36.586129",
     "exception": false,
     "start_time": "2025-07-07T18:58:36.582574",
     "status": "completed"
    },
    "tags": []
   },
   "outputs": [],
   "source": []
  },
  {
   "cell_type": "code",
   "execution_count": null,
   "id": "3814adec",
   "metadata": {
    "papermill": {
     "duration": 0.003532,
     "end_time": "2025-07-07T18:58:36.593426",
     "exception": false,
     "start_time": "2025-07-07T18:58:36.589894",
     "status": "completed"
    },
    "tags": []
   },
   "outputs": [],
   "source": []
  },
  {
   "cell_type": "code",
   "execution_count": null,
   "id": "a52c3d49",
   "metadata": {
    "papermill": {
     "duration": 0.003783,
     "end_time": "2025-07-07T18:58:36.601019",
     "exception": false,
     "start_time": "2025-07-07T18:58:36.597236",
     "status": "completed"
    },
    "tags": []
   },
   "outputs": [],
   "source": []
  },
  {
   "cell_type": "code",
   "execution_count": null,
   "id": "2867a2d8",
   "metadata": {
    "papermill": {
     "duration": 0.003694,
     "end_time": "2025-07-07T18:58:36.608713",
     "exception": false,
     "start_time": "2025-07-07T18:58:36.605019",
     "status": "completed"
    },
    "tags": []
   },
   "outputs": [],
   "source": []
  },
  {
   "cell_type": "code",
   "execution_count": null,
   "id": "238db228",
   "metadata": {
    "papermill": {
     "duration": 0.00359,
     "end_time": "2025-07-07T18:58:36.616295",
     "exception": false,
     "start_time": "2025-07-07T18:58:36.612705",
     "status": "completed"
    },
    "tags": []
   },
   "outputs": [],
   "source": []
  }
 ],
 "metadata": {
  "kaggle": {
   "accelerator": "none",
   "dataSources": [
    {
     "datasetId": 7821424,
     "sourceId": 12402595,
     "sourceType": "datasetVersion"
    }
   ],
   "dockerImageVersionId": 31040,
   "isGpuEnabled": false,
   "isInternetEnabled": true,
   "language": "python",
   "sourceType": "notebook"
  },
  "kernelspec": {
   "display_name": "Python 3",
   "language": "python",
   "name": "python3"
  },
  "language_info": {
   "codemirror_mode": {
    "name": "ipython",
    "version": 3
   },
   "file_extension": ".py",
   "mimetype": "text/x-python",
   "name": "python",
   "nbconvert_exporter": "python",
   "pygments_lexer": "ipython3",
   "version": "3.11.11"
  },
  "papermill": {
   "default_parameters": {},
   "duration": 6.975574,
   "end_time": "2025-07-07T18:58:37.038159",
   "environment_variables": {},
   "exception": null,
   "input_path": "__notebook__.ipynb",
   "output_path": "__notebook__.ipynb",
   "parameters": {},
   "start_time": "2025-07-07T18:58:30.062585",
   "version": "2.6.0"
  }
 },
 "nbformat": 4,
 "nbformat_minor": 5
}
